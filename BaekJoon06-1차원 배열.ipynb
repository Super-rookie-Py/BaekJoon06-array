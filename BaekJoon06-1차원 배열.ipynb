{
 "cells": [
  {
   "cell_type": "markdown",
   "metadata": {},
   "source": [
    "# 강의노트\n",
    "### 백준 문제 6단계- 1차원배열\n",
    "#### 2020/04/18 keonwoo park"
   ]
  },
  {
   "cell_type": "markdown",
   "metadata": {},
   "source": [
    "#### N개의 정수가 주어진다. 이때, 최솟값과 최댓값을 구하는 프로그램을 작성하시오."
   ]
  },
  {
   "cell_type": "code",
   "execution_count": 17,
   "metadata": {},
   "outputs": [
    {
     "name": "stdout",
     "output_type": "stream",
     "text": [
      "5\n",
      "20 30 15 7 5\n",
      "5 30\n"
     ]
    }
   ],
   "source": [
    "a = int(input())\n",
    "\n",
    "b = list(map(int, input().split()))\n",
    "\n",
    "max_b = -1000001\n",
    "min_b = 1000001\n",
    "\n",
    "for i in b:\n",
    "    if i > max_b:\n",
    "        max_b = i\n",
    "for j in b:\n",
    "    if j < min_b:\n",
    "        min_b = j\n",
    "    \n",
    "print(min_b, max_b)"
   ]
  },
  {
   "cell_type": "markdown",
   "metadata": {},
   "source": [
    "#### 첫 째 줄부터 아홉 번째 줄까지 한 줄에 하나의 자연수가 주어진다. 주어지는 자연수는 100 보다 작다."
   ]
  },
  {
   "cell_type": "code",
   "execution_count": 29,
   "metadata": {},
   "outputs": [
    {
     "name": "stdout",
     "output_type": "stream",
     "text": [
      "3\n",
      "29\n",
      "38\n",
      "12\n",
      "57\n",
      "74\n",
      "40\n",
      "85\n",
      "61\n",
      "85\n",
      "8\n"
     ]
    }
   ],
   "source": [
    "max_a = 0\n",
    "index_a = 0\n",
    "\n",
    "for i in range(1,10):\n",
    "    a = int(input())\n",
    "    if a > max_a:\n",
    "        max_a = a\n",
    "        index_a = i\n",
    "print(max_a)\n",
    "print(index_a)\n",
    "    "
   ]
  },
  {
   "cell_type": "markdown",
   "metadata": {},
   "source": [
    "#### 세 개의 자연수 A, B, C가 주어질 때 A×B×C를 계산한 결과에 0부터 9까지 각각의 숫자가 몇 번씩 쓰였는지를 구하는 프로그램을 작성하시오.\n",
    "\n",
    "#### 예를 들어 A = 150, B = 266, C = 427 이라면 \n",
    "\n",
    "#### A × B × C = 150 × 266 × 427 = 17037300 이 되고, \n",
    "\n",
    "#### 계산한 결과 17037300 에는 0이 3번, 1이 1번, 3이 2번, 7이 2번 쓰였다."
   ]
  },
  {
   "cell_type": "code",
   "execution_count": 18,
   "metadata": {},
   "outputs": [
    {
     "name": "stdout",
     "output_type": "stream",
     "text": [
      "150\n",
      "266\n",
      "427\n",
      "3\n",
      "1\n",
      "0\n",
      "2\n",
      "0\n",
      "0\n",
      "0\n",
      "2\n",
      "0\n",
      "0\n"
     ]
    }
   ],
   "source": [
    "multi = 1\n",
    "c=[]\n",
    "\n",
    "# 입력 받은 세 수를 곱한다.\n",
    "\n",
    "for i in range(3):\n",
    "    a = int(input())\n",
    "    multi = multi * a\n",
    "    \n",
    "# 세 수를 문자열로 바꿔서 리스트에 저장\n",
    "\n",
    "for i in str(multi):\n",
    "    c.append(int(i))\n",
    "    \n",
    "for j in range(10):\n",
    "    print(c.count(j))"
   ]
  },
  {
   "cell_type": "markdown",
   "metadata": {},
   "source": [
    "####  두 자연수 A와 B가 있을 때, A%B는 A를 B로 나눈 나머지 이다. 예를 들어, 7, 14, 27, 38을 3으로 나눈 나머지는 1, 2, 0, 2이다. \n",
    "\n",
    "#### 수 10개를 입력받은 뒤, 이를 42로 나눈 나머지를 구한다. 그 다음 서로 다른 값이 몇 개 있는지 출력하는 프로그램을 작성하시오."
   ]
  },
  {
   "cell_type": "code",
   "execution_count": 20,
   "metadata": {},
   "outputs": [
    {
     "name": "stdout",
     "output_type": "stream",
     "text": [
      "39\n",
      "40\n",
      "41\n",
      "42\n",
      "43\n",
      "44\n",
      "82\n",
      "83\n",
      "84\n",
      "85\n",
      "6\n"
     ]
    }
   ],
   "source": [
    "c = []\n",
    "\n",
    "for i in range(10):\n",
    "    a = int(input())\n",
    "    b= a % 42\n",
    "    c.append(b)\n",
    "c = set(c)\n",
    "c = list(c)\n",
    "print(len(c))\n",
    "    "
   ]
  },
  {
   "cell_type": "markdown",
   "metadata": {},
   "source": [
    "#### 세준이는 기말고사를 망쳤다. 세준이는 점수를 조작해서 집에 가져가기로 했다. 일단 세준이는 자기 점수 중에 최댓값을 골랐다. 이 값을 M이라고 한다. 그리고 나서 모든 점수를 점수/M*100으로 고쳤다.\n",
    "\n",
    "#### 예를 들어, 세준이의 최고점이 70이고, 수학점수가 50이었으면 수학점수는 50/70*100이 되어 71.43점이 된다.\n",
    "\n",
    "#### 세준이의 성적을 위의 방법대로 새로 계산했을 때, 새로운 평균을 구하는 프로그램을 작성하시오."
   ]
  },
  {
   "cell_type": "code",
   "execution_count": 26,
   "metadata": {},
   "outputs": [
    {
     "name": "stdout",
     "output_type": "stream",
     "text": [
      "5\n",
      "1 2 4 8 16\n",
      "38.75\n"
     ]
    }
   ],
   "source": [
    "a = int(input())\n",
    "\n",
    "b = list(map(int,input().split()))\n",
    "b_max = -1\n",
    "b_sum = 0\n",
    "\n",
    "for i in b:\n",
    "    if i > b_max:\n",
    "        b_max = i\n",
    "for j in b:\n",
    "    b_sum = b_sum + ((j/b_max)*100)\n",
    "    \n",
    "print(b_sum/len(b))    \n"
   ]
  },
  {
   "cell_type": "markdown",
   "metadata": {},
   "source": [
    "#### \"OOXXOXXOOO\"와 같은 OX퀴즈의 결과가 있다. O는 문제를 맞은 것이고, X는 문제를 틀린 것이다. 문제를 맞은 경우 그 문제의 점수는 그 문제까지 연속된 O의 개수가 된다. 예를 들어, 10번 문제의 점수는 3이 된다.\n",
    "\n",
    "#### \"OOXXOXXOOO\"의 점수는 1+2+0+0+1+0+0+1+2+3 = 10점이다.\n",
    "\n",
    "#### OX퀴즈의 결과가 주어졌을 때, 점수를 구하는 프로그램을 작성하시오."
   ]
  },
  {
   "cell_type": "code",
   "execution_count": 2,
   "metadata": {
    "scrolled": true
   },
   "outputs": [
    {
     "name": "stdout",
     "output_type": "stream",
     "text": [
      "3\n",
      "OOXXOOXXO\n",
      "7\n",
      "OOXXOOXXOOO\n",
      "12\n",
      "OOXOXOXOXOOO\n",
      "12\n"
     ]
    }
   ],
   "source": [
    "a = int(input())\n",
    "\n",
    "\n",
    "for j in range(a):\n",
    "    b = input()\n",
    "    score = 0\n",
    "    bonus = 0\n",
    "    for i in b:\n",
    "        if i == \"O\":\n",
    "            score = score + bonus + 1\n",
    "            bonus = bonus + 1\n",
    "        else:\n",
    "            bonus = 0\n",
    "    print(score)\n",
    "    "
   ]
  },
  {
   "cell_type": "markdown",
   "metadata": {},
   "source": [
    "#### 대학생 새내기들의 90%는 자신이 반에서 평균은 넘는다고 생각한다. 당신은 그들에게 슬픈 진실을 알려줘야 한다.\n",
    "#### 첫째 줄에는 테스트 케이스의 개수 C가 주어진다.\n",
    "#### 둘째 줄부터 각 테스트 케이스마다 학생의 수 N(1 ≤ N ≤ 1000, N은 정수)이 첫 수로 주어지고, 이어서 N명의 점수가 주어진다. 점수는 0보다 크거나 같고, 100보다 작거나 같은 정수이다."
   ]
  },
  {
   "cell_type": "code",
   "execution_count": 35,
   "metadata": {},
   "outputs": [
    {
     "name": "stdout",
     "output_type": "stream",
     "text": [
      "5\n",
      "5 50 50 70 80 100\n",
      "40.000%\n",
      "7 100 95 90 80 70 60 50\n",
      "57.143%\n",
      "3 70 90 80\n",
      "33.333%\n",
      "3 70 90 81\n",
      "66.667%\n",
      "9 100 99 98 97 96 95 94 93 91\n",
      "55.556%\n"
     ]
    }
   ],
   "source": [
    "a = int(input())\n",
    "\n",
    "for k in range(a):\n",
    "    b = list(map(int, input().split()))\n",
    "    \n",
    "    b_sum = 0\n",
    "    mean = 0\n",
    "    \n",
    "    for i in b[1:]:\n",
    "        b_sum = b_sum + i\n",
    "    \n",
    "    mean = b_sum / b[0]\n",
    "    count = 0\n",
    "    \n",
    "    for j in b[1:]:\n",
    "        if j > mean:\n",
    "            count += 1\n",
    "    result = (count/b[0])*100\n",
    "    print(\"{:.3f}%\".format(round(result,3)))\n",
    "        "
   ]
  }
 ],
 "metadata": {
  "kernelspec": {
   "display_name": "Python 3",
   "language": "python",
   "name": "python3"
  },
  "language_info": {
   "codemirror_mode": {
    "name": "ipython",
    "version": 3
   },
   "file_extension": ".py",
   "mimetype": "text/x-python",
   "name": "python",
   "nbconvert_exporter": "python",
   "pygments_lexer": "ipython3",
   "version": "3.6.2"
  }
 },
 "nbformat": 4,
 "nbformat_minor": 4
}
